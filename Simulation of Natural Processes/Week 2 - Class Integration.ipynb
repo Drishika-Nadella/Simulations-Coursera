{
 "cells": [
  {
   "cell_type": "code",
   "execution_count": 12,
   "metadata": {},
   "outputs": [
    {
     "data": {
      "text/plain": [
       "0.7637402392542364"
      ]
     },
     "execution_count": 12,
     "metadata": {},
     "output_type": "execute_result"
    }
   ],
   "source": [
    "import numpy as np\n",
    "\n",
    "class Integration:\n",
    "    def __init__(self, xMin, xMax, N):\n",
    "        self.xmin=xMin\n",
    "        self.xmax=xMax\n",
    "        self.n=N\n",
    "        \n",
    "    def integrate(self):\n",
    "        summ=0\n",
    "        delx=((self.xmax)-(self.xmin))/(self.n)\n",
    "        #print(delx)\n",
    "        for i in range(int(self.n)):\n",
    "            xi=int(self.xmin)+i*delx\n",
    "            inte=(xi**2*np.exp(-xi)*np.sin(xi))*delx\n",
    "            summ=summ+inte\n",
    "        return summ\n",
    "        \n",
    "\n",
    "examp = Integration(1,3,200000)\n",
    "examp.integrate()"
   ]
  }
 ],
 "metadata": {
  "kernelspec": {
   "display_name": "Python 3",
   "language": "python",
   "name": "python3"
  },
  "language_info": {
   "codemirror_mode": {
    "name": "ipython",
    "version": 3
   },
   "file_extension": ".py",
   "mimetype": "text/x-python",
   "name": "python",
   "nbconvert_exporter": "python",
   "pygments_lexer": "ipython3",
   "version": "3.7.6"
  }
 },
 "nbformat": 4,
 "nbformat_minor": 4
}
